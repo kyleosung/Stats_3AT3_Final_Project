{
 "cells": [
  {
   "cell_type": "code",
   "execution_count": 1,
   "metadata": {},
   "outputs": [],
   "source": [
    "import pandas as pd\n",
    "import numpy as np\n",
    "from sklearn.linear_model import PoissonRegressor\n"
   ]
  },
  {
   "cell_type": "code",
   "execution_count": null,
   "metadata": {},
   "outputs": [],
   "source": [
    "train = pd.read_csv(\"data_given\\train.csv\") # read-in training dataset\n",
    "validation = pd.read_csv(\"data_given\\validation.csv\") # read-in validation dataset"
   ]
  },
  {
   "cell_type": "code",
   "execution_count": null,
   "metadata": {},
   "outputs": [],
   "source": [
    "# Import necessary libraries\n",
    "import pandas as pd\n",
    "from sklearn.linear_model import PoissonRegressor\n",
    "from sklearn.metrics import mean_absolute_error, mean_squared_error\n",
    "\n",
    "# Load the training and validation datasets\n",
    "train_data = pd.read_csv(\"data_given/train.csv\")\n",
    "validation_data = pd.read_csv(\"data_given/validation.csv\")\n",
    "\n",
    "# Preprocessing: Drop irrelevant columns and separate features and target\n",
    "irrelevant_columns = [\"Unnamed: 0\", \"id_policy\", \"claim_amount\"]\n",
    "categorical_columns = [\"pol_pay_freq\", \"pol_usage\", \"drv_sex1\", \"vh_fuel\", \"vh_type\"]\n",
    "\n",
    "# Features and target for training data\n",
    "X_train = train_data.drop(columns=irrelevant_columns)\n",
    "y_train = train_data[\"claim_amount\"]\n",
    "\n",
    "# Features for validation data\n",
    "X_validation = validation_data.drop(columns=irrelevant_columns)\n",
    "y_validation = validation_data[\"claim_amount\"]\n",
    "\n",
    "# Convert categorical columns to numeric using one-hot encoding\n",
    "X_train = pd.get_dummies(X_train, columns=categorical_columns, drop_first=True)\n",
    "X_validation = pd.get_dummies(X_validation, columns=categorical_columns, drop_first=True)\n",
    "\n",
    "# Align the training and validation datasets (ensure matching feature columns)\n",
    "X_validation = X_validation.reindex(columns=X_train.columns, fill_value=0)\n",
    "\n",
    "# Convert binary columns like \"Yes\"/\"No\" to numeric\n",
    "binary_columns = [\"pol_payd\"]\n",
    "for col in binary_columns:\n",
    "    X_train[col] = X_train[col].map({\"No\": 0, \"Yes\": 1})\n",
    "    X_validation[col] = X_validation[col].map({\"No\": 0, \"Yes\": 1})\n",
    "\n",
    "# Convert the target to numeric (ensuring it's suitable for Poisson regression)\n",
    "y_train = pd.to_numeric(y_train, errors='coerce')\n",
    "y_validation = pd.to_numeric(y_validation, errors='coerce')\n",
    "\n",
    "# Initialize the Poisson Regressor\n",
    "poisson_model = PoissonRegressor(alpha=0.5, max_iter=1000)\n",
    "\n",
    "# Train the model\n",
    "poisson_model.fit(X_train, y_train)\n",
    "\n",
    "# Predict on the validation data\n",
    "y_pred = poisson_model.predict(X_validation)\n",
    "\n",
    "# Evaluate the model\n",
    "mae = mean_absolute_error(y_validation, y_pred)\n",
    "mse = mean_squared_error(y_validation, y_pred)\n",
    "\n",
    "# Display results\n",
    "print(f\"Mean Absolute Error (MAE): {mae}\")\n",
    "print(f\"Mean Squared Error (MSE): {mse}\")"
   ]
  },
  {
   "cell_type": "code",
   "execution_count": null,
   "metadata": {},
   "outputs": [
    {
     "name": "stdout",
     "output_type": "stream",
     "text": [
      "Multivariable dataset saved to multivariable_poisson_data.csv\n"
     ]
    }
   ],
   "source": [
    "import numpy as np\n",
    "import pandas as pd\n",
    "\n",
    "# Load the dataset\n",
    "synthetic_single_poisson = pd.read_csv(\"synthetic_data_poisson.csv\")\n",
    "\n",
    "# Number of new variables to create\n",
    "num_new_var = 5\n",
    "\n",
    "# Generate a random vector for multiplication\n",
    "np.random.seed(42)  # For reproducibility\n",
    "random_vector = np.random.rand(num_new_var)\n",
    "\n",
    "# Create new features by multiplying 'X' with each value in the random vector\n",
    "for i in range(num_new_var):\n",
    "    synthetic_single_poisson[f'X_{i+1}'] = synthetic_single_poisson['X'] * random_vector[i]\n",
    "\n",
    "# Save the updated dataset to a new CSV file\n",
    "output_file_path = \"multivariable_poisson_data.csv\"\n",
    "synthetic_single_poisson.to_csv(output_file_path, index=False)\n",
    "\n",
    "print(f\"Multivariable dataset saved to {output_file_path}\")\n"
   ]
  }
 ],
 "metadata": {
  "kernelspec": {
   "display_name": "Python 3",
   "language": "python",
   "name": "python3"
  },
  "language_info": {
   "codemirror_mode": {
    "name": "ipython",
    "version": 3
   },
   "file_extension": ".py",
   "mimetype": "text/x-python",
   "name": "python",
   "nbconvert_exporter": "python",
   "pygments_lexer": "ipython3",
   "version": "3.12.7"
  }
 },
 "nbformat": 4,
 "nbformat_minor": 2
}
