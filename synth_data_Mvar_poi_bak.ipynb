{
 "cells": [
  {
   "cell_type": "code",
   "execution_count": 1,
   "metadata": {},
   "outputs": [],
   "source": [
    "import pandas as pd\n",
    "import numpy as np\n",
    "from sklearn.linear_model import PoissonRegressor\n"
   ]
  },
  {
   "cell_type": "code",
   "execution_count": null,
   "metadata": {},
   "outputs": [],
   "source": [
    "train = pd.read_csv(\"data_given/train.csv\") # read-in training dataset\n",
    "validation = pd.read_csv(\"data_given/validation.csv\") # read-in validation dataset"
   ]
  },
  {
   "cell_type": "code",
   "execution_count": null,
   "metadata": {},
   "outputs": [],
   "source": [
    "# Import necessary libraries\n",
    "import pandas as pd\n",
    "from sklearn.linear_model import PoissonRegressor\n",
    "from sklearn.metrics import mean_absolute_error, mean_squared_error\n",
    "\n",
    "# Load the training and validation datasets\n",
    "train_data = pd.read_csv(\"data_given/train.csv\")\n",
    "validation_data = pd.read_csv(\"data_given/validation.csv\")\n",
    "\n",
    "# Preprocessing: Drop irrelevant columns and separate features and target\n",
    "irrelevant_columns = [\"Unnamed: 0\", \"id_policy\", \"claim_amount\"]\n",
    "categorical_columns = [\"pol_pay_freq\", \"pol_usage\", \"drv_sex1\", \"vh_fuel\", \"vh_type\"]\n",
    "\n",
    "# Features and target for training data\n",
    "X_train = train_data.drop(columns=irrelevant_columns)\n",
    "y_train = train_data[\"claim_amount\"]\n",
    "\n",
    "# Features for validation data\n",
    "X_validation = validation_data.drop(columns=irrelevant_columns)\n",
    "y_validation = validation_data[\"claim_amount\"]\n",
    "\n",
    "# Convert categorical columns to numeric using one-hot encoding\n",
    "X_train = pd.get_dummies(X_train, columns=categorical_columns, drop_first=True)\n",
    "X_validation = pd.get_dummies(X_validation, columns=categorical_columns, drop_first=True)\n",
    "\n",
    "# Align the training and validation datasets (ensure matching feature columns)\n",
    "X_validation = X_validation.reindex(columns=X_train.columns, fill_value=0)\n",
    "\n",
    "# Convert binary columns like \"Yes\"/\"No\" to numeric\n",
    "binary_columns = [\"pol_payd\"]\n",
    "for col in binary_columns:\n",
    "    X_train[col] = X_train[col].map({\"No\": 0, \"Yes\": 1})\n",
    "    X_validation[col] = X_validation[col].map({\"No\": 0, \"Yes\": 1})\n",
    "\n",
    "# Convert the target to numeric (ensuring it's suitable for Poisson regression)\n",
    "y_train = pd.to_numeric(y_train, errors='coerce')\n",
    "y_validation = pd.to_numeric(y_validation, errors='coerce')\n",
    "\n",
    "# Initialize the Poisson Regressor\n",
    "poisson_model = PoissonRegressor(alpha=0.5, max_iter=1000)\n",
    "\n",
    "# Train the model\n",
    "poisson_model.fit(X_train, y_train)\n",
    "\n",
    "# Predict on the validation data\n",
    "y_pred = poisson_model.predict(X_validation)\n",
    "\n",
    "# Evaluate the model\n",
    "mae = mean_absolute_error(y_validation, y_pred)\n",
    "mse = mean_squared_error(y_validation, y_pred)\n",
    "\n",
    "# Display results\n",
    "print(f\"Mean Absolute Error (MAE): {mae}\")\n",
    "print(f\"Mean Squared Error (MSE): {mse}\")"
   ]
  },
  {
   "cell_type": "code",
   "execution_count": null,
   "metadata": {},
   "outputs": [
    {
     "name": "stdout",
     "output_type": "stream",
     "text": [
      "Multivariable dataset saved to multivariable_poisson_data.csv\n"
     ]
    }
   ],
   "source": [
    "import numpy as np\n",
    "import pandas as pd\n",
    "\n",
    "# Load the dataset\n",
    "synthetic_single_poisson = pd.read_csv(\"synthetic_data_poisson.csv\")\n",
    "\n",
    "# Number of new variables to create\n",
    "num_new_var = 5\n",
    "\n",
    "# Generate a random vector for multiplication\n",
    "np.random.seed(42)  # For reproducibility\n",
    "random_vector = np.random.rand(num_new_var)\n",
    "\n",
    "# Create new features by multiplying 'X' with each value in the random vector\n",
    "for i in range(num_new_var):\n",
    "    synthetic_single_poisson[f'X_{i+1}'] = synthetic_single_poisson['X'] * random_vector[i]\n",
    "\n",
    "# Save the updated dataset to a new CSV file\n",
    "output_file_path = \"multivariable_poisson_data.csv\"\n",
    "synthetic_single_poisson.to_csv(output_file_path, index=False)\n",
    "\n",
    "print(f\"Multivariable dataset saved to {output_file_path}\")\n"
   ]
  },
  {
   "cell_type": "code",
   "execution_count": null,
   "metadata": {},
   "outputs": [
    {
     "name": "stdout",
     "output_type": "stream",
     "text": [
      "Random integers used for scaling: [7 4 8 5 7]\n",
      "Scaled multivariable dataset saved to multivariable_scaled_poisson_data.csv\n"
     ]
    }
   ],
   "source": [
    "#updated poisson scaling dataset\n",
    "import numpy as np\n",
    "import pandas as pd\n",
    "\n",
    "# Load the dataset\n",
    "input_file_path = \"synthetic_data_poisson.csv\"  # Update with your actual file path\n",
    "output_file_path = \"multivariable_scaled_poisson_data.csv\"  # Output file name\n",
    "synthetic_single_poisson = pd.read_csv(input_file_path)\n",
    "\n",
    "# Number of new variables to create\n",
    "num_new_var = 5\n",
    "\n",
    "# Generate a random vector of integers for scaling\n",
    "np.random.seed(42)  # For reproducibility\n",
    "random_integers = np.random.randint(1, 10, size=num_new_var)  # Scale factors between 1 and 10\n",
    "\n",
    "# Display the random integers for scaling\n",
    "print(\"Random integers used for scaling:\", random_integers)\n",
    "\n",
    "# Create new features by scaling 'X' with each random integer\n",
    "for i, scale_factor in enumerate(random_integers, start=1):\n",
    "    # Scale 'X' and keep the result Poisson-distributed\n",
    "    synthetic_single_poisson[f'X_{i}'] = np.random.poisson(\n",
    "        lam=synthetic_single_poisson['X'] * scale_factor\n",
    "    )\n",
    "\n",
    "# Save the updated dataset to a new CSV file\n",
    "synthetic_single_poisson.to_csv(output_file_path, index=False)\n",
    "\n",
    "print(f\"Scaled multivariable dataset saved to {output_file_path}\")\n"
   ]
  },
  {
   "cell_type": "code",
   "execution_count": null,
   "metadata": {},
   "outputs": [
    {
     "name": "stderr",
     "output_type": "stream",
     "text": [
      "<>:6: SyntaxWarning: invalid escape sequence '\\s'\n",
      "<>:6: SyntaxWarning: invalid escape sequence '\\s'\n",
      "C:\\Users\\jdcc3\\AppData\\Local\\Temp\\ipykernel_13900\\2847398564.py:6: SyntaxWarning: invalid escape sequence '\\s'\n",
      "  input_file_path = \"data_synthetic\\synth_data_1var_lin.csv\"  # Update with your actual file path\n"
     ]
    },
    {
     "name": "stdout",
     "output_type": "stream",
     "text": [
      "Random integers used for scaling: [7 4 8 5 7]\n",
      "Scaled multivariable dataset saved to data_synthetic/synth_data_Mvar_lin.csv\n"
     ]
    }
   ],
   "source": [
    "#updated linear scaling dataset\n",
    "import numpy as np\n",
    "import pandas as pd\n",
    "\n",
    "# Load the dataset\n",
    "input_file_path = \"data_synthetic\\synth_data_1var_lin.csv\"  # Update with your actual file path\n",
    "output_file_path = \"data_synthetic/synth_data_Mvar_lin.csv\"  # Output file name\n",
    "synthetic_single_poisson = pd.read_csv(input_file_path)\n",
    "\n",
    "# Number of new variables to create\n",
    "num_new_var = 5\n",
    "\n",
    "# Generate a random vector of integers for scaling\n",
    "np.random.seed(42)  # For reproducibility\n",
    "random_integers = np.random.randint(1, 10, size=num_new_var)  # Scale factors between 1 and 10\n",
    "\n",
    "# Display the random integers for scaling\n",
    "print(\"Random integers used for scaling:\", random_integers)\n",
    "\n",
    "# Create new features by scaling 'X' with each random integer\n",
    "for i, scale_factor in enumerate(random_integers, start=1):\n",
    "    # Scale 'X' and keep the result Poisson-distributed\n",
    "    synthetic_single_poisson[f'X_{i}'] = np.random.poisson(\n",
    "        lam=synthetic_single_poisson['X'] * scale_factor\n",
    "    )\n",
    "\n",
    "# Save the updated dataset to a new CSV file\n",
    "synthetic_single_poisson.to_csv(output_file_path, index=False)\n",
    "\n",
    "print(f\"Scaled multivariable dataset saved to {output_file_path}\")\n"
   ]
  },
  {
   "cell_type": "code",
   "execution_count": 3,
   "metadata": {},
   "outputs": [
    {
     "name": "stdout",
     "output_type": "stream",
     "text": [
      "Data generated and saved to Exponential_Data_with_Five_Features.csv\n"
     ]
    }
   ],
   "source": [
    "import numpy as np\n",
    "import pandas as pd\n",
    "\n",
    "def generate_exponential_data_with_five_features(scales, n_samples):\n",
    "    \"\"\"\n",
    "    Generate multivariable exponentially distributed data in the format y = x1, x2, x3, x4, x5.\n",
    "\n",
    "    Parameters:\n",
    "        scales (list of float): Scale (mean) of each exponential variable (x1, x2, x3, x4, x5).\n",
    "        n_samples (int): Number of samples to generate.\n",
    "\n",
    "    Returns:\n",
    "        pd.DataFrame: DataFrame containing the generated data with y and x1, x2, x3, x4, x5.\n",
    "    \"\"\"\n",
    "    # Generate feature variables (x1, x2, x3, x4, x5) based on scales\n",
    "    feature_data = np.column_stack([np.random.exponential(scale=scale, size=n_samples) for scale in scales])\n",
    "    \n",
    "    # Generate the target variable (y) as a function of the features\n",
    "    target_data = np.sum(feature_data, axis=1)\n",
    "    \n",
    "    # Combine target (y) and features (x1, x2, x3, x4, x5) into a DataFrame\n",
    "    df = pd.DataFrame(feature_data, columns=[f\"x{i+1}\" for i in range(len(scales))])\n",
    "    df[\"y\"] = target_data\n",
    "    \n",
    "    return df\n",
    "\n",
    "# Customize your parameters\n",
    "scales = [2.0, 1.5, 1.0, 3.0, 2.5]  # Scale (mean) for each feature variable\n",
    "n_samples = 1000                    # Number of samples\n",
    "\n",
    "# Generate the data\n",
    "df = generate_exponential_data_with_five_features(scales, n_samples)\n",
    "\n",
    "# Save to a CSV file\n",
    "output_file = \"Exponential_Data_with_Five_Features.csv\"\n",
    "df.to_csv(output_file, index=False)\n",
    "\n",
    "print(f\"Data generated and saved to {output_file}\")\n"
   ]
  }
 ],
 "metadata": {
  "kernelspec": {
   "display_name": "Python 3",
   "language": "python",
   "name": "python3"
  },
  "language_info": {
   "codemirror_mode": {
    "name": "ipython",
    "version": 3
   },
   "file_extension": ".py",
   "mimetype": "text/x-python",
   "name": "python",
   "nbconvert_exporter": "python",
   "pygments_lexer": "ipython3",
   "version": "3.12.7"
  }
 },
 "nbformat": 4,
 "nbformat_minor": 2
}
