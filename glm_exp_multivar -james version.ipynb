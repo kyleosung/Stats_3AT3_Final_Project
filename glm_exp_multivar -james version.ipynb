{
 "cells": [
  {
   "cell_type": "code",
   "execution_count": 22,
   "metadata": {},
   "outputs": [],
   "source": [
    "import numpy as np\n",
    "import matplotlib.pyplot as plt\n",
    "import pandas as pd"
   ]
  },
  {
   "cell_type": "code",
   "execution_count": 23,
   "metadata": {},
   "outputs": [],
   "source": [
    "h = np.vectorize(lambda x : x) # modify h as needed\n",
    "h_inv = np.vectorize(lambda x : x)"
   ]
  },
  {
   "cell_type": "code",
   "execution_count": 24,
   "metadata": {},
   "outputs": [],
   "source": [
    "from sklearn.model_selection import train_test_split\n",
    "from sklearn.linear_model import LinearRegression\n",
    "from sklearn.metrics import mean_squared_error, r2_score"
   ]
  },
  {
   "cell_type": "code",
   "execution_count": 25,
   "metadata": {},
   "outputs": [
    {
     "data": {
      "text/html": [
       "<div>\n",
       "<style scoped>\n",
       "    .dataframe tbody tr th:only-of-type {\n",
       "        vertical-align: middle;\n",
       "    }\n",
       "\n",
       "    .dataframe tbody tr th {\n",
       "        vertical-align: top;\n",
       "    }\n",
       "\n",
       "    .dataframe thead th {\n",
       "        text-align: right;\n",
       "    }\n",
       "</style>\n",
       "<table border=\"1\" class=\"dataframe\">\n",
       "  <thead>\n",
       "    <tr style=\"text-align: right;\">\n",
       "      <th></th>\n",
       "      <th>x2</th>\n",
       "      <th>x3</th>\n",
       "      <th>x4</th>\n",
       "      <th>x5</th>\n",
       "      <th>y</th>\n",
       "    </tr>\n",
       "    <tr>\n",
       "      <th>x1</th>\n",
       "      <th></th>\n",
       "      <th></th>\n",
       "      <th></th>\n",
       "      <th></th>\n",
       "      <th></th>\n",
       "    </tr>\n",
       "  </thead>\n",
       "  <tbody>\n",
       "    <tr>\n",
       "      <th>0.679017</th>\n",
       "      <td>1.942277</td>\n",
       "      <td>0.573733</td>\n",
       "      <td>1.516159</td>\n",
       "      <td>3.385369</td>\n",
       "      <td>8.096554</td>\n",
       "    </tr>\n",
       "    <tr>\n",
       "      <th>2.579761</th>\n",
       "      <td>3.747401</td>\n",
       "      <td>1.004567</td>\n",
       "      <td>8.344470</td>\n",
       "      <td>3.338968</td>\n",
       "      <td>19.015167</td>\n",
       "    </tr>\n",
       "    <tr>\n",
       "      <th>3.620852</th>\n",
       "      <td>3.584622</td>\n",
       "      <td>0.597931</td>\n",
       "      <td>0.498641</td>\n",
       "      <td>0.490099</td>\n",
       "      <td>8.792146</td>\n",
       "    </tr>\n",
       "    <tr>\n",
       "      <th>3.968112</th>\n",
       "      <td>1.391688</td>\n",
       "      <td>0.412213</td>\n",
       "      <td>0.029687</td>\n",
       "      <td>4.352874</td>\n",
       "      <td>10.154574</td>\n",
       "    </tr>\n",
       "    <tr>\n",
       "      <th>0.759586</th>\n",
       "      <td>1.125408</td>\n",
       "      <td>0.491184</td>\n",
       "      <td>0.815762</td>\n",
       "      <td>0.807819</td>\n",
       "      <td>3.999760</td>\n",
       "    </tr>\n",
       "    <tr>\n",
       "      <th>...</th>\n",
       "      <td>...</td>\n",
       "      <td>...</td>\n",
       "      <td>...</td>\n",
       "      <td>...</td>\n",
       "      <td>...</td>\n",
       "    </tr>\n",
       "    <tr>\n",
       "      <th>0.826827</th>\n",
       "      <td>1.217599</td>\n",
       "      <td>1.029386</td>\n",
       "      <td>3.725331</td>\n",
       "      <td>4.303721</td>\n",
       "      <td>11.102863</td>\n",
       "    </tr>\n",
       "    <tr>\n",
       "      <th>0.114057</th>\n",
       "      <td>0.776212</td>\n",
       "      <td>0.397157</td>\n",
       "      <td>1.051390</td>\n",
       "      <td>6.155532</td>\n",
       "      <td>8.494348</td>\n",
       "    </tr>\n",
       "    <tr>\n",
       "      <th>1.615714</th>\n",
       "      <td>0.924605</td>\n",
       "      <td>1.966638</td>\n",
       "      <td>2.609986</td>\n",
       "      <td>1.924656</td>\n",
       "      <td>9.041599</td>\n",
       "    </tr>\n",
       "    <tr>\n",
       "      <th>1.772990</th>\n",
       "      <td>0.022936</td>\n",
       "      <td>0.130824</td>\n",
       "      <td>8.659535</td>\n",
       "      <td>3.252715</td>\n",
       "      <td>13.839000</td>\n",
       "    </tr>\n",
       "    <tr>\n",
       "      <th>5.452640</th>\n",
       "      <td>0.500580</td>\n",
       "      <td>0.568214</td>\n",
       "      <td>5.010959</td>\n",
       "      <td>0.323748</td>\n",
       "      <td>11.856141</td>\n",
       "    </tr>\n",
       "  </tbody>\n",
       "</table>\n",
       "<p>1000 rows × 5 columns</p>\n",
       "</div>"
      ],
      "text/plain": [
       "                x2        x3        x4        x5          y\n",
       "x1                                                         \n",
       "0.679017  1.942277  0.573733  1.516159  3.385369   8.096554\n",
       "2.579761  3.747401  1.004567  8.344470  3.338968  19.015167\n",
       "3.620852  3.584622  0.597931  0.498641  0.490099   8.792146\n",
       "3.968112  1.391688  0.412213  0.029687  4.352874  10.154574\n",
       "0.759586  1.125408  0.491184  0.815762  0.807819   3.999760\n",
       "...            ...       ...       ...       ...        ...\n",
       "0.826827  1.217599  1.029386  3.725331  4.303721  11.102863\n",
       "0.114057  0.776212  0.397157  1.051390  6.155532   8.494348\n",
       "1.615714  0.924605  1.966638  2.609986  1.924656   9.041599\n",
       "1.772990  0.022936  0.130824  8.659535  3.252715  13.839000\n",
       "5.452640  0.500580  0.568214  5.010959  0.323748  11.856141\n",
       "\n",
       "[1000 rows x 5 columns]"
      ]
     },
     "execution_count": 25,
     "metadata": {},
     "output_type": "execute_result"
    }
   ],
   "source": [
    "df = pd.read_csv(\"Exponential_Data_with_Five_Features.csv\", index_col=0)\n",
    "df"
   ]
  },
  {
   "cell_type": "code",
   "execution_count": 26,
   "metadata": {},
   "outputs": [],
   "source": [
    "X = df.drop(columns=['y']).to_numpy()\n",
    "y = df['y'].to_numpy().reshape(-1,1)"
   ]
  },
  {
   "cell_type": "code",
   "execution_count": 27,
   "metadata": {},
   "outputs": [
    {
     "data": {
      "text/plain": [
       "(1000, 4)"
      ]
     },
     "execution_count": 27,
     "metadata": {},
     "output_type": "execute_result"
    }
   ],
   "source": [
    "X.shape"
   ]
  },
  {
   "cell_type": "code",
   "execution_count": 28,
   "metadata": {},
   "outputs": [
    {
     "data": {
      "text/plain": [
       "(1000, 1)"
      ]
     },
     "execution_count": 28,
     "metadata": {},
     "output_type": "execute_result"
    }
   ],
   "source": [
    "y.shape"
   ]
  },
  {
   "cell_type": "code",
   "execution_count": 29,
   "metadata": {},
   "outputs": [],
   "source": [
    "X_train, X_test, y_train, y_test = train_test_split(X, y, test_size=0.2, random_state=0)"
   ]
  },
  {
   "cell_type": "code",
   "execution_count": 30,
   "metadata": {},
   "outputs": [],
   "source": [
    "h = np.vectorize(lambda x : -1/x) # modify h as needed\n",
    "h_inv = np.vectorize(lambda x : -1/x)"
   ]
  },
  {
   "cell_type": "code",
   "execution_count": 32,
   "metadata": {},
   "outputs": [
    {
     "name": "stdout",
     "output_type": "stream",
     "text": [
      "Coefficients: \n",
      " [[0.01297379 0.01616185 0.01152758 0.0122678 ]]\n",
      "Mean squared error: 168.54202476296282\n",
      "Coefficient of determination: -7.54\n"
     ]
    }
   ],
   "source": [
    "regr = LinearRegression()\n",
    "regr.fit(X_train, h(y_train))\n",
    "\n",
    "y_pred = h_inv(regr.predict(X_test))\n",
    "\n",
    "print(\"Coefficients: \\n\", regr.coef_)\n",
    "print(f\"Mean squared error: {mean_squared_error(y_test, y_pred)}\")\n",
    "print(\"Coefficient of determination: %.2f\" % r2_score(y_test, y_pred))"
   ]
  },
  {
   "cell_type": "code",
   "execution_count": 33,
   "metadata": {},
   "outputs": [
    {
     "data": {
      "text/plain": [
       "np.float64(1997.0969819849915)"
      ]
     },
     "execution_count": 33,
     "metadata": {},
     "output_type": "execute_result"
    }
   ],
   "source": [
    "y_pred.sum()"
   ]
  },
  {
   "cell_type": "code",
   "execution_count": 34,
   "metadata": {},
   "outputs": [
    {
     "data": {
      "text/plain": [
       "np.float64(1886.0314123524038)"
      ]
     },
     "execution_count": 34,
     "metadata": {},
     "output_type": "execute_result"
    }
   ],
   "source": [
    "y_test.sum()"
   ]
  }
 ],
 "metadata": {
  "kernelspec": {
   "display_name": "Python 3",
   "language": "python",
   "name": "python3"
  },
  "language_info": {
   "codemirror_mode": {
    "name": "ipython",
    "version": 3
   },
   "file_extension": ".py",
   "mimetype": "text/x-python",
   "name": "python",
   "nbconvert_exporter": "python",
   "pygments_lexer": "ipython3",
   "version": "3.12.7"
  }
 },
 "nbformat": 4,
 "nbformat_minor": 2
}
